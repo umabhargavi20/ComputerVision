{
  "cells": [
    {
      "cell_type": "markdown",
      "metadata": {
        "id": "view-in-github",
        "colab_type": "text"
      },
      "source": [
        "<a href=\"https://colab.research.google.com/github/umabhargavi20/ComputerVision/blob/main/CVProject.ipynb\" target=\"_parent\"><img src=\"https://colab.research.google.com/assets/colab-badge.svg\" alt=\"Open In Colab\"/></a>"
      ]
    },
    {
      "cell_type": "code",
      "execution_count": null,
      "metadata": {
        "colab": {
          "base_uri": "https://localhost:8080/"
        },
        "id": "A3bv9q-S_av-",
        "outputId": "f76230a5-314a-4d73-e863-95f7c10dffdf"
      },
      "outputs": [
        {
          "output_type": "stream",
          "name": "stdout",
          "text": [
            "Drive already mounted at /content/drive; to attempt to forcibly remount, call drive.mount(\"/content/drive\", force_remount=True).\n"
          ]
        }
      ],
      "source": [
        "\n",
        "#This portion of code is to mount the file to the drive. Feel free to ignore this if not needed\n",
        "#'''\n",
        "from google.colab import drive\n",
        "drive.mount('/content/drive')\n",
        "import os\n",
        "#os.chdir('/content/drive/My Drive/CVPROJECT')\n",
        "os.chdir('/content/drive/MyDrive/')\n",
        "#'''\n"
      ]
    },
    {
      "cell_type": "markdown",
      "metadata": {
        "id": "KI98HrmRS7D5"
      },
      "source": [
        "**Importing the libraries**"
      ]
    },
    {
      "cell_type": "code",
      "execution_count": null,
      "metadata": {
        "id": "x49bsWDF2MBF"
      },
      "outputs": [],
      "source": [
        "# Import library modules\n",
        "import sys\n",
        "import cv2 # OpenCV library\n",
        "from PIL import Image  # Python Imaging Library\n",
        "import numpy as np\n",
        "import matplotlib.pyplot as plt\n",
        "import math\n",
        "from math import sqrt\n",
        "from math import acos, degrees\n",
        "\n",
        "# (Note: we would use cv2.imshow if running on your laptop;\n",
        "#  cv2.imshow is not allowed in Colab, so use cv2_imshow instead)\n",
        "from google.colab.patches import cv2_imshow"
      ]
    },
    {
      "cell_type": "markdown",
      "metadata": {
        "id": "_Qp69LRMEJFX"
      },
      "source": [
        "**1.Reading the image (Enter the image here)**"
      ]
    },
    {
      "cell_type": "code",
      "execution_count": null,
      "metadata": {
        "id": "0wo-sL59UE6K"
      },
      "outputs": [],
      "source": [
        "  #Enter the file name here (Run all cells to see output)\n",
        "  filename = \"CV project/clock2_04.jpg\"\n",
        "\n",
        "  im0in = cv2.imread(filename, cv2.IMREAD_GRAYSCALE)\n",
        "  #We use cv2.Canny to get the edges of the image.\n",
        "  #This is to make sure we can accurately extract the lines\n",
        "  edge_im = cv2.Canny(im0in, 75, 225)\n",
        "  #cv2_imshow(edge_im)\n",
        "\n",
        "  #print(\"rows:\",im0in.shape[0],\"columns:\",im0in.shape[1])\n",
        "\n",
        "  #The x and y coordinates of the edges are retrieved from the canny image\n",
        "  edge_y, edge_x = np.nonzero(edge_im)\n",
        "\n",
        "  #This is maximum value d can be for the parameter space\n",
        "  #implicit representation with polar coordinates is used\n",
        "  shortest_dim = im0in.shape[0]\n",
        "  if im0in.shape[0] > im0in.shape[1]:\n",
        "    shortest_dim = im0in.shape[1]\n",
        "  max_d = int(np.hypot(im0in.shape[0],im0in.shape[1]))\n",
        "  #The parameter space is constructed\n",
        "  param_space = np.zeros((max_d,180))\n",
        "  theta_range = np.arange(0,180)\n",
        "  #this is to keep track which coordinate correspond to which line detected\n",
        "  edge_points = {d: {t: [] for t in range(180)} for d in range(-max_d, max_d)}"
      ]
    },
    {
      "cell_type": "markdown",
      "metadata": {
        "id": "6OfK5ux7TSnc"
      },
      "source": [
        "**2.Hough Transform**"
      ]
    },
    {
      "cell_type": "code",
      "execution_count": null,
      "metadata": {
        "id": "NZKvWi3FUJV9"
      },
      "outputs": [],
      "source": [
        "  for i in range(len(edge_x)):\n",
        "    for t in theta_range:\n",
        "      #the d values for each theta and point is calculated\n",
        "      d = int(edge_x[i] * np.cos(np.radians(t)) + edge_y[i] * np.sin(np.radians(t)))\n",
        "      #the voting for the coordinate in parameter space is done\n",
        "      param_space[d,t] += 1\n",
        "      #simultaneously, the point is added to the list of coordinates for the parameter space\n",
        "      edge_points[d][t].append((edge_x[i], edge_y[i]))\n"
      ]
    },
    {
      "cell_type": "markdown",
      "metadata": {
        "id": "NvjO0EGoTdo7"
      },
      "source": [
        "**3.Extracting longest lines**"
      ]
    },
    {
      "cell_type": "code",
      "execution_count": null,
      "metadata": {
        "colab": {
          "base_uri": "https://localhost:8080/",
          "height": 36
        },
        "id": "T8twzh6xUqwW",
        "outputId": "71f78d70-85ec-4320-a5f3-e3d413dbe412"
      },
      "outputs": [
        {
          "output_type": "execute_result",
          "data": {
            "text/plain": [
              "'\\nfor l in filt_points:\\n  for pt in l:\\n    plt.plot(pt[0], pt[1], marker=\\'o\\', markersize=1, c=\"red\")\\nplt.imshow(im0in, cmap=\\'gray\\')\\n'"
            ],
            "application/vnd.google.colaboratory.intrinsic+json": {
              "type": "string"
            }
          },
          "metadata": {},
          "execution_count": 62
        }
      ],
      "source": [
        "  d_vals, theta_vals = np.nonzero(param_space > 0.15*shortest_dim)\n",
        "  '''\n",
        "  for dvals, theta_v in zip(d_vals, theta_vals):\n",
        "    #print(len(edge_points[dvals][theta_v]))\n",
        "    for i in range(len(edge_points[dvals][theta_v])):\n",
        "      plt.plot(edge_points[dvals][theta_v][i][0], edge_points[dvals][theta_v][i][1], marker='o', markersize=1, c=\"red\")\n",
        "  plt.imshow(im0in, cmap='gray')\n",
        "  '''\n",
        "  #print(d_vals)\n",
        "  #print(theta_vals)\n",
        "  #This section can show where points are detected along lines\n",
        "  filt_points = []\n",
        "  index = 0\n",
        "  for dval, theta in zip(d_vals, theta_vals):\n",
        "    #this is the longest list of consecutive points found\n",
        "    points = []\n",
        "    #this is a list of consecutive points that becomes empty again if there is a disconnect\n",
        "    if len(edge_points[dval][theta]) < 0.1*shortest_dim:\n",
        "      continue\n",
        "    this_points = [(edge_points[dval][theta][0][0], edge_points[dval][theta][0][1])]\n",
        "    consec_count = 0\n",
        "    for i in range(1,len(edge_points[dval][theta])):\n",
        "      #if the point is close to the previous consecutive point then it is added to the current list of consecutive points\n",
        "      if (np.linalg.norm(np.array(this_points[len(this_points)-1]) - np.array((edge_points[dval][theta][i][0], edge_points[dval][theta][i][1]))) < 20):\n",
        "        this_points.append((edge_points[dval][theta][i][0], edge_points[dval][theta][i][1]))\n",
        "        consec_count += 1\n",
        "      #if a disconnect was found different actions could happen\n",
        "      else:\n",
        "        #if this new list of consecutive points is the longest, then it is named the longest line (longest list of consecutive points)\n",
        "        #the current consecutive points lists restarts as well\n",
        "        if (consec_count > len(points)):\n",
        "          consec_count = 0\n",
        "          points = this_points.copy()\n",
        "          this_points.clear()\n",
        "          this_points.append((edge_points[dval][theta][i][0], edge_points[dval][theta][i][1]))\n",
        "        #otherwise, just the current consecutive points list restarts\n",
        "        else:\n",
        "          consec_count = 0\n",
        "          this_points.clear()\n",
        "          this_points.append((edge_points[dval][theta][i][0], edge_points[dval][theta][i][1]))\n",
        "    filt_points.append(points)\n",
        "'''\n",
        "  for l in filt_points:\n",
        "    for pt in l:\n",
        "      plt.plot(pt[0], pt[1], marker='o', markersize=1, c=\"red\")\n",
        "  plt.imshow(im0in, cmap='gray')\n",
        "  '''"
      ]
    },
    {
      "cell_type": "markdown",
      "metadata": {
        "id": "799PIEyPTgvn"
      },
      "source": [
        "**4.Filtering lines based on proximity to the center**\n"
      ]
    },
    {
      "cell_type": "code",
      "execution_count": null,
      "metadata": {
        "id": "ta2ylE2nU04h"
      },
      "outputs": [],
      "source": [
        "  #This is assuming that the clock center is at the center of the image\n",
        "  close_c = []\n",
        "  for line in filt_points:\n",
        "    for p in line:\n",
        "      if math.sqrt(math.pow(im0in.shape[1]/2 - p[0], 2) + math.pow(im0in.shape[0]/2 - p[1], 2)) < 0.15*shortest_dim:\n",
        "        close_c.append(line)\n",
        "        break"
      ]
    },
    {
      "cell_type": "markdown",
      "metadata": {
        "id": "J6vf12hJTq3O"
      },
      "source": [
        "**5. Displaying lines and extracting angle-length pairs**"
      ]
    },
    {
      "cell_type": "code",
      "execution_count": null,
      "metadata": {
        "id": "mVGwjA4aU--H"
      },
      "outputs": [],
      "source": [
        "  lines_pairs = []\n",
        "  for l in close_c:\n",
        "    p1 = l[0]\n",
        "    p2 = l[len(l)-1]\n",
        "    #The goal is to have p1 be the closer point to the center, if they are not then swap p1 and p2\n",
        "    if math.sqrt(math.pow(im0in.shape[1]/2 - p1[0], 2) + math.pow(im0in.shape[0]/2 - p1[1], 2)) > math.sqrt(math.pow(im0in.shape[1]/2 - p2[0], 2) + math.pow(im0in.shape[0]/2 - p2[1], 2)):\n",
        "      temp = p2\n",
        "      p2 = p1\n",
        "      p1 = temp\n",
        "    angle = np.degrees(math.atan2(p2[0] - p1[0], p1[1] - p2[1]))\n",
        "    if angle < 0:\n",
        "      angle += 360\n",
        "    length = math.sqrt(math.pow(p1[0] - p2[0], 2) + math.pow(p1[1] - p2[1], 2))\n",
        "    #The length of the line and the angle it is at are paired and added to the list\n",
        "    lines_pairs.append((angle, length))\n"
      ]
    },
    {
      "cell_type": "markdown",
      "metadata": {
        "id": "O5vyhcsATv4i"
      },
      "source": [
        "**6.Sorting lines based on angle and clustering**"
      ]
    },
    {
      "cell_type": "code",
      "execution_count": null,
      "metadata": {
        "id": "KMXQAT2LVAhK"
      },
      "outputs": [],
      "source": [
        "  #The source for the clustering and summarizing: https://blog.jinay.dev/posts/timekeeper/\n",
        "  lines_pairs.sort()  # sorts by angle\n",
        "  #print(lines_pairs)\n",
        "  max_angle_gap = 5\n",
        "  clusters = [[lines_pairs[0]]]\n",
        "  for i in range(1, len(lines_pairs)):\n",
        "    if abs(lines_pairs[i][0] - lines_pairs[i-1][0]) <= max_angle_gap:\n",
        "      clusters[len(clusters) - 1].append(lines_pairs[i])\n",
        "    else:\n",
        "      clusters.append([lines_pairs[i]])"
      ]
    },
    {
      "cell_type": "markdown",
      "metadata": {
        "id": "OjPVWNNwV2yE"
      },
      "source": [
        "**7. Summarizing clusters and extracting relevant lines**"
      ]
    },
    {
      "cell_type": "code",
      "execution_count": null,
      "metadata": {
        "id": "eOnltvQBV6aK"
      },
      "outputs": [],
      "source": [
        "  summary = []\n",
        "  for cluster in clusters:\n",
        "    angles = np.array([angle for angle, length in cluster])\n",
        "    lengths = np.array([length for angle, length in cluster])\n",
        "    avg_angle = np.mean(angles)\n",
        "    max_len = np.max(lengths)\n",
        "    summary.append((max_len, avg_angle))\n",
        "    summary.sort(reverse=True)"
      ]
    },
    {
      "cell_type": "markdown",
      "metadata": {
        "id": "x0IHDEP8TwdP"
      },
      "source": [
        "**8.Convert the summarized lines detected to minutes and hours**"
      ]
    },
    {
      "cell_type": "code",
      "execution_count": null,
      "metadata": {
        "id": "oIqi2NHJa2Q6"
      },
      "outputs": [],
      "source": [
        "  hour_ratio = summary[1][1] / 360.\n",
        "  minute_ratio = summary[0][1] / 360.\n",
        "  hours = hour_ratio * 12\n",
        "  minutes = int(round(minute_ratio * 60)) % 60\n",
        "  margin = 5\n",
        "  if abs(minutes - 60) < 5 or minutes < 5 or (abs(hours-math.floor(hours)) > 0.9):\n",
        "    hours = int(round(hours))\n",
        "  else:\n",
        "    hours = math.floor(hours)\n",
        "  if hours == 0:\n",
        "    hours = 12"
      ]
    },
    {
      "cell_type": "markdown",
      "metadata": {
        "id": "QhSmdfckT6_H"
      },
      "source": [
        "**9.Displaying detected lines on the image**"
      ]
    },
    {
      "cell_type": "code",
      "execution_count": null,
      "metadata": {
        "colab": {
          "base_uri": "https://localhost:8080/",
          "height": 381
        },
        "id": "-jdqTSMgbWJP",
        "outputId": "8df26c02-a19c-4546-a5db-e20a9d08fbf9"
      },
      "outputs": [
        {
          "output_type": "stream",
          "name": "stdout",
          "text": [
            "Time:\n",
            "2:04\n"
          ]
        },
        {
          "output_type": "display_data",
          "data": {
            "text/plain": [
              "<Figure size 640x480 with 1 Axes>"
            ],
            "image/png": "[encoded data removed]"
          },
          "metadata": {}
        }
      ],
      "source": [
        "  print(\"Time:\")\n",
        "  if (minutes < 10):\n",
        "    out = str(hours)+\":0\"+str(minutes)\n",
        "  else:\n",
        "    out = str(hours)+\":\"+str(minutes)\n",
        "  print(out)\n",
        "  plt.imshow(im0in, cmap='gray')\n",
        "  for l in close_c:\n",
        "    #print(\"num of points:\",len(line))\n",
        "    for pt in l:\n",
        "      plt.plot(pt[0], pt[1], marker='o', markersize=1, c=\"red\")\n",
        "  plt.show()"
      ]
    }
  ],
  "metadata": {
    "colab": {
      "provenance": [],
      "toc_visible": true,
      "include_colab_link": true
    },
    "kernelspec": {
      "display_name": "Python 3",
      "name": "python3"
    },
    "language_info": {
      "name": "python"
    }
  },
  "nbformat": 4,
  "nbformat_minor": 0
}